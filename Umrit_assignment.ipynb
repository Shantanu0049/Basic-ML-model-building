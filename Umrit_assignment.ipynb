{
 "cells": [
  {
   "cell_type": "code",
   "execution_count": 1,
   "id": "a85ce03a",
   "metadata": {},
   "outputs": [],
   "source": [
    "# Importing few libraries\n",
    "import numpy as np\n",
    "import pandas as pd\n",
    "import matplotlib.pyplot as plt"
   ]
  },
  {
   "cell_type": "markdown",
   "id": "0357a114",
   "metadata": {},
   "source": [
    "## Data Selection and Preprocessing"
   ]
  },
  {
   "cell_type": "markdown",
   "id": "9b2b1c1f",
   "metadata": {},
   "source": [
    "### Kaggle Dataset"
   ]
  },
  {
   "cell_type": "code",
   "execution_count": 2,
   "id": "45a3f1e9",
   "metadata": {},
   "outputs": [
    {
     "data": {
      "text/html": [
       "<div>\n",
       "<style scoped>\n",
       "    .dataframe tbody tr th:only-of-type {\n",
       "        vertical-align: middle;\n",
       "    }\n",
       "\n",
       "    .dataframe tbody tr th {\n",
       "        vertical-align: top;\n",
       "    }\n",
       "\n",
       "    .dataframe thead th {\n",
       "        text-align: right;\n",
       "    }\n",
       "</style>\n",
       "<table border=\"1\" class=\"dataframe\">\n",
       "  <thead>\n",
       "    <tr style=\"text-align: right;\">\n",
       "      <th></th>\n",
       "      <th>age</th>\n",
       "      <th>time_in_hospital</th>\n",
       "      <th>n_lab_procedures</th>\n",
       "      <th>n_procedures</th>\n",
       "      <th>n_medications</th>\n",
       "      <th>n_outpatient</th>\n",
       "      <th>n_inpatient</th>\n",
       "      <th>n_emergency</th>\n",
       "      <th>medical_specialty</th>\n",
       "      <th>diag_1</th>\n",
       "      <th>diag_2</th>\n",
       "      <th>diag_3</th>\n",
       "      <th>glucose_test</th>\n",
       "      <th>A1Ctest</th>\n",
       "      <th>change</th>\n",
       "      <th>diabetes_med</th>\n",
       "      <th>readmitted</th>\n",
       "    </tr>\n",
       "  </thead>\n",
       "  <tbody>\n",
       "    <tr>\n",
       "      <th>0</th>\n",
       "      <td>[70-80)</td>\n",
       "      <td>8</td>\n",
       "      <td>72</td>\n",
       "      <td>1</td>\n",
       "      <td>18</td>\n",
       "      <td>2</td>\n",
       "      <td>0</td>\n",
       "      <td>0</td>\n",
       "      <td>Missing</td>\n",
       "      <td>Circulatory</td>\n",
       "      <td>Respiratory</td>\n",
       "      <td>Other</td>\n",
       "      <td>no</td>\n",
       "      <td>no</td>\n",
       "      <td>no</td>\n",
       "      <td>yes</td>\n",
       "      <td>no</td>\n",
       "    </tr>\n",
       "    <tr>\n",
       "      <th>1</th>\n",
       "      <td>[70-80)</td>\n",
       "      <td>3</td>\n",
       "      <td>34</td>\n",
       "      <td>2</td>\n",
       "      <td>13</td>\n",
       "      <td>0</td>\n",
       "      <td>0</td>\n",
       "      <td>0</td>\n",
       "      <td>Other</td>\n",
       "      <td>Other</td>\n",
       "      <td>Other</td>\n",
       "      <td>Other</td>\n",
       "      <td>no</td>\n",
       "      <td>no</td>\n",
       "      <td>no</td>\n",
       "      <td>yes</td>\n",
       "      <td>no</td>\n",
       "    </tr>\n",
       "    <tr>\n",
       "      <th>2</th>\n",
       "      <td>[50-60)</td>\n",
       "      <td>5</td>\n",
       "      <td>45</td>\n",
       "      <td>0</td>\n",
       "      <td>18</td>\n",
       "      <td>0</td>\n",
       "      <td>0</td>\n",
       "      <td>0</td>\n",
       "      <td>Missing</td>\n",
       "      <td>Circulatory</td>\n",
       "      <td>Circulatory</td>\n",
       "      <td>Circulatory</td>\n",
       "      <td>no</td>\n",
       "      <td>no</td>\n",
       "      <td>yes</td>\n",
       "      <td>yes</td>\n",
       "      <td>yes</td>\n",
       "    </tr>\n",
       "    <tr>\n",
       "      <th>3</th>\n",
       "      <td>[70-80)</td>\n",
       "      <td>2</td>\n",
       "      <td>36</td>\n",
       "      <td>0</td>\n",
       "      <td>12</td>\n",
       "      <td>1</td>\n",
       "      <td>0</td>\n",
       "      <td>0</td>\n",
       "      <td>Missing</td>\n",
       "      <td>Circulatory</td>\n",
       "      <td>Other</td>\n",
       "      <td>Diabetes</td>\n",
       "      <td>no</td>\n",
       "      <td>no</td>\n",
       "      <td>yes</td>\n",
       "      <td>yes</td>\n",
       "      <td>yes</td>\n",
       "    </tr>\n",
       "    <tr>\n",
       "      <th>4</th>\n",
       "      <td>[60-70)</td>\n",
       "      <td>1</td>\n",
       "      <td>42</td>\n",
       "      <td>0</td>\n",
       "      <td>7</td>\n",
       "      <td>0</td>\n",
       "      <td>0</td>\n",
       "      <td>0</td>\n",
       "      <td>InternalMedicine</td>\n",
       "      <td>Other</td>\n",
       "      <td>Circulatory</td>\n",
       "      <td>Respiratory</td>\n",
       "      <td>no</td>\n",
       "      <td>no</td>\n",
       "      <td>no</td>\n",
       "      <td>yes</td>\n",
       "      <td>no</td>\n",
       "    </tr>\n",
       "  </tbody>\n",
       "</table>\n",
       "</div>"
      ],
      "text/plain": [
       "       age  time_in_hospital  n_lab_procedures  n_procedures  n_medications  \\\n",
       "0  [70-80)                 8                72             1             18   \n",
       "1  [70-80)                 3                34             2             13   \n",
       "2  [50-60)                 5                45             0             18   \n",
       "3  [70-80)                 2                36             0             12   \n",
       "4  [60-70)                 1                42             0              7   \n",
       "\n",
       "   n_outpatient  n_inpatient  n_emergency medical_specialty       diag_1  \\\n",
       "0             2            0            0           Missing  Circulatory   \n",
       "1             0            0            0             Other        Other   \n",
       "2             0            0            0           Missing  Circulatory   \n",
       "3             1            0            0           Missing  Circulatory   \n",
       "4             0            0            0  InternalMedicine        Other   \n",
       "\n",
       "        diag_2       diag_3 glucose_test A1Ctest change diabetes_med  \\\n",
       "0  Respiratory        Other           no      no     no          yes   \n",
       "1        Other        Other           no      no     no          yes   \n",
       "2  Circulatory  Circulatory           no      no    yes          yes   \n",
       "3        Other     Diabetes           no      no    yes          yes   \n",
       "4  Circulatory  Respiratory           no      no     no          yes   \n",
       "\n",
       "  readmitted  \n",
       "0         no  \n",
       "1         no  \n",
       "2        yes  \n",
       "3        yes  \n",
       "4         no  "
      ]
     },
     "execution_count": 2,
     "metadata": {},
     "output_type": "execute_result"
    }
   ],
   "source": [
    "# Displaying the first 5 rows and all the columns\n",
    "\n",
    "df = pd.read_csv('hospital_readmissions.csv')\n",
    "df.head()"
   ]
  },
  {
   "cell_type": "code",
   "execution_count": 3,
   "id": "8078a2d9",
   "metadata": {},
   "outputs": [
    {
     "data": {
      "text/plain": [
       "(25000, 17)"
      ]
     },
     "execution_count": 3,
     "metadata": {},
     "output_type": "execute_result"
    }
   ],
   "source": [
    "# Checking the shape or the Dataset i.e. rows,columns\n",
    "df.shape"
   ]
  },
  {
   "cell_type": "code",
   "execution_count": 4,
   "id": "3bccd689",
   "metadata": {},
   "outputs": [
    {
     "data": {
      "text/plain": [
       "age                  object\n",
       "time_in_hospital      int64\n",
       "n_lab_procedures      int64\n",
       "n_procedures          int64\n",
       "n_medications         int64\n",
       "n_outpatient          int64\n",
       "n_inpatient           int64\n",
       "n_emergency           int64\n",
       "medical_specialty    object\n",
       "diag_1               object\n",
       "diag_2               object\n",
       "diag_3               object\n",
       "glucose_test         object\n",
       "A1Ctest              object\n",
       "change               object\n",
       "diabetes_med         object\n",
       "readmitted           object\n",
       "dtype: object"
      ]
     },
     "execution_count": 4,
     "metadata": {},
     "output_type": "execute_result"
    }
   ],
   "source": [
    "# Checking Datatypes\n",
    "df.dtypes"
   ]
  },
  {
   "cell_type": "code",
   "execution_count": 5,
   "id": "ce7a8327",
   "metadata": {},
   "outputs": [
    {
     "data": {
      "text/plain": [
       "Index(['age', 'time_in_hospital', 'n_lab_procedures', 'n_procedures',\n",
       "       'n_medications', 'n_outpatient', 'n_inpatient', 'n_emergency',\n",
       "       'medical_specialty', 'diag_1', 'diag_2', 'diag_3', 'glucose_test',\n",
       "       'A1Ctest', 'change', 'diabetes_med', 'readmitted'],\n",
       "      dtype='object')"
      ]
     },
     "execution_count": 5,
     "metadata": {},
     "output_type": "execute_result"
    }
   ],
   "source": [
    "# Checking all the columns in the dataset\n",
    "df.columns"
   ]
  },
  {
   "cell_type": "code",
   "execution_count": 6,
   "id": "b9dea2e2",
   "metadata": {},
   "outputs": [
    {
     "data": {
      "text/plain": [
       "0"
      ]
     },
     "execution_count": 6,
     "metadata": {},
     "output_type": "execute_result"
    }
   ],
   "source": [
    "#Checking in dataset for any null values\n",
    "df.isnull().sum().sum()"
   ]
  },
  {
   "cell_type": "code",
   "execution_count": 7,
   "id": "29944bde",
   "metadata": {},
   "outputs": [],
   "source": [
    "from sklearn.preprocessing import LabelEncoder"
   ]
  },
  {
   "cell_type": "code",
   "execution_count": 8,
   "id": "42f74c7d",
   "metadata": {},
   "outputs": [],
   "source": [
    "# Encoding the categorical columns using label encoding\n",
    "le=LabelEncoder()\n",
    "df['age'] = le.fit_transform(df['age'])\n",
    "df['medical_specialty'] = le.fit_transform(df['medical_specialty'])\n",
    "df['diag_1'] = le.fit_transform(df['diag_1'])\n",
    "df['diag_2'] = le.fit_transform(df['diag_2'])\n",
    "df['diag_3'] = le.fit_transform(df['diag_3'])\n",
    "df['glucose_test'] = le.fit_transform(df['glucose_test'])\n",
    "df['A1Ctest'] = le.fit_transform(df['A1Ctest'])\n",
    "df['change'] = le.fit_transform(df['change'])\n",
    "df['diabetes_med'] = le.fit_transform(df['diabetes_med'])\n"
   ]
  },
  {
   "cell_type": "code",
   "execution_count": 9,
   "id": "aafe42f8",
   "metadata": {},
   "outputs": [],
   "source": [
    "# Mapping the target variable i.e. 1 for Yes and 0 for No\n",
    "df['readmitted'] = df['readmitted'].map({'yes': 1, 'no': 0})"
   ]
  },
  {
   "cell_type": "code",
   "execution_count": 10,
   "id": "7b9ed077",
   "metadata": {},
   "outputs": [],
   "source": [
    "# Importing the Necessary library \n",
    "from sklearn.model_selection import train_test_split"
   ]
  },
  {
   "cell_type": "code",
   "execution_count": 11,
   "id": "58e1c388",
   "metadata": {},
   "outputs": [],
   "source": [
    "# Splitting the dataset into training dataset(70%) and testing dataset(30%)\n",
    "y = df['readmitted']\n",
    "x = df.drop(columns = ['readmitted'])\n",
    "\n",
    "xtrain,xtest,ytrain,ytest = train_test_split(x,y,test_size=0.3,random_state=10)"
   ]
  },
  {
   "cell_type": "code",
   "execution_count": 12,
   "id": "ab33989b",
   "metadata": {},
   "outputs": [
    {
     "data": {
      "text/plain": [
       "((17500, 16), (7500, 16), (17500,), (7500,))"
      ]
     },
     "execution_count": 12,
     "metadata": {},
     "output_type": "execute_result"
    }
   ],
   "source": [
    "# Crosschecking the splitted dataset\n",
    "xtrain.shape,xtest.shape,ytrain.shape,ytest.shape"
   ]
  },
  {
   "cell_type": "code",
   "execution_count": 13,
   "id": "9b6bb9cd",
   "metadata": {},
   "outputs": [],
   "source": [
    "# Importing the Necessary library \n",
    "\n",
    "from sklearn.linear_model import LogisticRegression\n",
    "from sklearn.metrics import roc_auc_score,roc_curve,classification_report,confusion_matrix\n"
   ]
  },
  {
   "cell_type": "code",
   "execution_count": 14,
   "id": "ad344063",
   "metadata": {},
   "outputs": [
    {
     "name": "stdout",
     "output_type": "stream",
     "text": [
      "Train               precision    recall  f1-score   support\n",
      "\n",
      "           0       0.60      0.79      0.68      9247\n",
      "           1       0.64      0.41      0.50      8253\n",
      "\n",
      "    accuracy                           0.61     17500\n",
      "   macro avg       0.62      0.60      0.59     17500\n",
      "weighted avg       0.62      0.61      0.60     17500\n",
      "\n",
      "Test               precision    recall  f1-score   support\n",
      "\n",
      "           0       0.60      0.78      0.68      3999\n",
      "           1       0.62      0.40      0.49      3501\n",
      "\n",
      "    accuracy                           0.60      7500\n",
      "   macro avg       0.61      0.59      0.58      7500\n",
      "weighted avg       0.61      0.60      0.59      7500\n",
      "\n"
     ]
    },
    {
     "name": "stderr",
     "output_type": "stream",
     "text": [
      "C:\\Users\\gundg\\anaconda3\\lib\\site-packages\\sklearn\\linear_model\\_logistic.py:458: ConvergenceWarning: lbfgs failed to converge (status=1):\n",
      "STOP: TOTAL NO. of ITERATIONS REACHED LIMIT.\n",
      "\n",
      "Increase the number of iterations (max_iter) or scale the data as shown in:\n",
      "    https://scikit-learn.org/stable/modules/preprocessing.html\n",
      "Please also refer to the documentation for alternative solver options:\n",
      "    https://scikit-learn.org/stable/modules/linear_model.html#logistic-regression\n",
      "  n_iter_i = _check_optimize_result(\n"
     ]
    }
   ],
   "source": [
    "# Model Building - Logistic Regression\n",
    "lr = LogisticRegression()\n",
    "\n",
    "model = lr.fit(xtrain,ytrain)\n",
    "ytrain_pred = model.predict(xtrain)\n",
    "ytest_pred =  model.predict(xtest)\n",
    "\n",
    "print('Train',classification_report(ytrain,ytrain_pred))\n",
    "print('Test',classification_report(ytest,ytest_pred))"
   ]
  },
  {
   "cell_type": "markdown",
   "id": "bb1ae028",
   "metadata": {},
   "source": [
    "Logistic Regression is often chosen for binary classification tasks due to its simplicity, interpretability, and effectiveness.\n",
    "Here in this case we have either yes or no in the target variable, so using logistic regression makes a lot of sense.\n",
    "It predicts the probability of occurance of a class label."
   ]
  },
  {
   "cell_type": "code",
   "execution_count": 15,
   "id": "63d0e60b",
   "metadata": {},
   "outputs": [],
   "source": [
    "from xgboost import XGBClassifier"
   ]
  },
  {
   "cell_type": "code",
   "execution_count": 16,
   "id": "beb757b0",
   "metadata": {},
   "outputs": [
    {
     "name": "stdout",
     "output_type": "stream",
     "text": [
      "Train               precision    recall  f1-score   support\n",
      "\n",
      "           0       0.75      0.84      0.79      9247\n",
      "           1       0.79      0.69      0.74      8253\n",
      "\n",
      "    accuracy                           0.77     17500\n",
      "   macro avg       0.77      0.77      0.77     17500\n",
      "weighted avg       0.77      0.77      0.77     17500\n",
      "\n",
      "Test               precision    recall  f1-score   support\n",
      "\n",
      "           0       0.62      0.68      0.65      3999\n",
      "           1       0.59      0.52      0.55      3501\n",
      "\n",
      "    accuracy                           0.61      7500\n",
      "   macro avg       0.60      0.60      0.60      7500\n",
      "weighted avg       0.60      0.61      0.60      7500\n",
      "\n"
     ]
    }
   ],
   "source": [
    "xgb = XGBClassifier()\n",
    "xgb_model = xgb.fit(xtrain,ytrain)\n",
    "\n",
    "\n",
    "print('Train',classification_report(ytrain,xgb_model.predict(xtrain)))\n",
    "print('Test',classification_report(ytest,xgb_model.predict(xtest)))"
   ]
  },
  {
   "cell_type": "code",
   "execution_count": 17,
   "id": "341df577",
   "metadata": {},
   "outputs": [
    {
     "data": {
      "text/plain": [
       "Text(0.1, 0.8, '0.7655329243704925')"
      ]
     },
     "execution_count": 17,
     "metadata": {},
     "output_type": "execute_result"
    },
    {
     "data": {
      "image/png": "[encoded data removed]",
      "text/plain": [
       "<Figure size 640x480 with 1 Axes>"
      ]
     },
     "metadata": {},
     "output_type": "display_data"
    }
   ],
   "source": [
    "# Plotting ROC-AUC curve\n",
    "\n",
    "pred_prob = xgb_model.predict_proba(xtrain)\n",
    "fpr,tpr,threshold =roc_curve(ytrain,xgb_model.predict(xtrain))\n",
    "plt.plot([0,1],[0,1],'r--')\n",
    "plt.plot(fpr,tpr)\n",
    "plt.text(x=0.1,y=0.8,s=roc_auc_score(ytrain,xgb_model.predict(xtrain)))"
   ]
  },
  {
   "cell_type": "raw",
   "id": "caa24c40",
   "metadata": {},
   "source": [
    "Theoretical Task:\n",
    "○ Convert the Logistic Regression mathematical formula into code (in Python) and explain how each term of the\n",
    "formula maps to your implementation.\n",
    "\n",
    "import numpy as np\n",
    "\n",
    "def sigmoid(z):\n",
    "    return 1 / (1 + np.exp(-z))\n",
    "\n",
    "def logistic_regression(X, w, b):\n",
    "    z = np.dot(X, w) + b  # Linear combination: w * X + b\n",
    "    return sigmoid(z)  # Apply sigmoid to get the probability\n",
    "\n",
    "Where,\n",
    "X - input features\n",
    "w - weight vector\n",
    "b - bias error"
   ]
  },
  {
   "cell_type": "code",
   "execution_count": null,
   "id": "43af91fe",
   "metadata": {},
   "outputs": [],
   "source": []
  }
 ],
 "metadata": {
  "kernelspec": {
   "display_name": "Python 3 (ipykernel)",
   "language": "python",
   "name": "python3"
  },
  "language_info": {
   "codemirror_mode": {
    "name": "ipython",
    "version": 3
   },
   "file_extension": ".py",
   "mimetype": "text/x-python",
   "name": "python",
   "nbconvert_exporter": "python",
   "pygments_lexer": "ipython3",
   "version": "3.10.9"
  }
 },
 "nbformat": 4,
 "nbformat_minor": 5
}
